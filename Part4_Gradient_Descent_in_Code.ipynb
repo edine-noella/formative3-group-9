{
  "nbformat": 4,
  "nbformat_minor": 0,
  "metadata": {
    "colab": {
      "provenance": []
    },
    "kernelspec": {
      "name": "python3",
      "display_name": "Python 3"
    },
    "language_info": {
      "name": "python"
    }
  },
  "cells": [
    {
      "cell_type": "markdown",
      "source": [
        "# Part 3: Gradient Descent in Code\n"
      ],
      "metadata": {
        "id": "2SDImdsSflMJ"
      }
    },
    {
      "cell_type": "code",
      "source": [
        "import numpy as np\n",
        "import matplotlib.pyplot as plt"
      ],
      "metadata": {
        "id": "FH26OhmEiQiv"
      },
      "execution_count": 2,
      "outputs": []
    },
    {
      "cell_type": "markdown",
      "source": [
        "Implementing gradient descent in Python to optimize the parameters m (slope) and b (intercept) for a simple linear regression model.\n",
        "### 1.Initialize Parameters:"
      ],
      "metadata": {
        "id": "FsY2CN-tiVPS"
      }
    },
    {
      "cell_type": "code",
      "execution_count": 3,
      "metadata": {
        "id": "nlJ0_JdEfFqb"
      },
      "outputs": [],
      "source": [
        "# Initialize parameters\n",
        "m = -1  # Initial slope\n",
        "b = 1   # Initial intercept\n",
        "alpha = 0.1  # Learning rate\n",
        "points = np.array([[1, 3], [3, 6]])  # Given data points (x, y)\n",
        "n = len(points)  # Number of data points"
      ]
    },
    {
      "cell_type": "markdown",
      "source": [
        "### 2.Define the Cost Function and Gradients:"
      ],
      "metadata": {
        "id": "lfpA3X6JgYpT"
      }
    },
    {
      "cell_type": "code",
      "source": [
        "# Function to compute gradients for m and b\n",
        "def compute_gradients(m, b, points):\n",
        "    x = points[:, 0]  # Extract x values from the data points\n",
        "    y = points[:, 1]  # Extract y values from the data points\n",
        "    y_pred = m * x + b  # Compute predicted y values using current m and b\n",
        "    dm = (-2/n) * np.sum((y - y_pred) * x)  # Gradient for m\n",
        "    db = (-2/n) * np.sum(y - y_pred)  # Gradient for b\n",
        "    return dm, db\n",
        "\n",
        "# Function to compute the cost (Mean Squared Error)\n",
        "def compute_cost(m, b, points):\n",
        "    x = points[:, 0]  # Extract x values\n",
        "    y = points[:, 1]  # Extract y values\n",
        "    y_pred = m * x + b  # Compute predicted y values\n",
        "    cost = (1/n) * np.sum((y - y_pred) ** 2)  # Mean Squared Error\n",
        "    return cost"
      ],
      "metadata": {
        "id": "j16KSrIsgf2b"
      },
      "execution_count": 4,
      "outputs": []
    },
    {
      "cell_type": "markdown",
      "source": [
        "### 3.Gradient Descent Implementation:"
      ],
      "metadata": {
        "id": "P6yi1wdfgeVg"
      }
    },
    {
      "cell_type": "code",
      "source": [
        "# Gradient Descent function with stopping condition\n",
        "def gradient_descent(m, b, points, alpha, tolerance=1e-5, max_iterations=1000):\n",
        "    m_history = []  # To store the history of m values\n",
        "    b_history = []  # To store the history of b values\n",
        "    cost_history = []  # To store the history of cost values\n",
        "    previous_cost = float('inf')  # Initialize previous cost as infinity\n",
        "\n",
        "    # Iterate for a maximum of max_iterations\n",
        "    for iteration in range(max_iterations):\n",
        "        # Compute gradients for m and b\n",
        "        dm, db = compute_gradients(m, b, points)\n",
        "\n",
        "        # Update m and b using gradient descent\n",
        "        m = m - alpha * dm\n",
        "        b = b - alpha * db\n",
        "\n",
        "        # Compute the current cost (MSE)\n",
        "        current_cost = compute_cost(m, b, points)\n",
        "\n",
        "        # Append current values to history lists\n",
        "        m_history.append(m)\n",
        "        b_history.append(b)\n",
        "        cost_history.append(current_cost)\n",
        "\n",
        "        # Check for convergence: If the change in cost is below the tolerance, stop.\n",
        "        # This means m and b are no longer changing significantly.\n",
        "\n",
        "        if abs(previous_cost - current_cost) < tolerance:\n",
        "            print(f\"Converged after {iteration} iterations.\")\n",
        "            break\n",
        "\n",
        "        # Update previous_cost for the next iteration\n",
        "        previous_cost = current_cost\n",
        "\n",
        "    # Return final values and history\n",
        "    return m, b, m_history, b_history, cost_history"
      ],
      "metadata": {
        "id": "EsAE1Y_sgl7D"
      },
      "execution_count": 5,
      "outputs": []
    },
    {
      "cell_type": "markdown",
      "source": [
        "### 4.Run Gradient Descent:"
      ],
      "metadata": {
        "id": "6Q8wt2RugsdT"
      }
    },
    {
      "cell_type": "code",
      "source": [
        "\n",
        "# Set stopping condition parameters\n",
        "tolerance = 1e-5  # Threshold for stopping condition (change in cost)\n",
        "max_iterations = 100  # Maximum number of iterations to prevent infinite loops\n",
        "\n",
        "# Run gradient descent\n",
        "m_final, b_final, m_history, b_history, cost_history = gradient_descent(m, b, points, alpha, tolerance, max_iterations)\n",
        "\n",
        "# Print final values of m and b\n",
        "print(f\"Final slope (m): {m_final}\")\n",
        "print(f\"Final intercept (b): {b_final}\")"
      ],
      "metadata": {
        "colab": {
          "base_uri": "https://localhost:8080/"
        },
        "id": "MAsLQ_1fgu79",
        "outputId": "1aa560a2-3abc-4052-f466-2a1b386c1d1d"
      },
      "execution_count": 6,
      "outputs": [
        {
          "output_type": "stream",
          "name": "stdout",
          "text": [
            "Converged after 81 iterations.\n",
            "Final slope (m): 1.4891914492674805\n",
            "Final intercept (b): 1.5260941497680465\n"
          ]
        }
      ]
    },
    {
      "cell_type": "markdown",
      "source": [
        "### 5.Visualize the Changes in `m and b`:"
      ],
      "metadata": {
        "id": "7K0NYeOrg7WZ"
      }
    },
    {
      "cell_type": "code",
      "source": [
        "# Visualize the changes in m, b, and cost over iterations\n",
        "plt.figure(figsize=(12, 4))\n",
        "\n",
        "# Plot m and b over iterations\n",
        "plt.subplot(1, 2, 1)\n",
        "plt.plot(m_history, label='Slope (m)')\n",
        "plt.plot(b_history, label='Intercept (b)')\n",
        "plt.xlabel('Iterations')\n",
        "plt.ylabel('Value')\n",
        "plt.title('Gradient Descent: Changes in m and b over Iterations')\n",
        "plt.legend()\n",
        "\n",
        "# Plot cost (MSE) over iterations\n",
        "plt.subplot(1, 2, 2)\n",
        "plt.plot(cost_history, label='Cost (MSE)')\n",
        "plt.xlabel('Iterations')\n",
        "plt.ylabel('Cost')\n",
        "plt.title('Gradient Descent: Cost over Iterations')\n",
        "plt.legend()\n",
        "\n",
        "plt.show()"
      ],
      "metadata": {
        "colab": {
          "base_uri": "https://localhost:8080/",
          "height": 410
        },
        "id": "kBV-OcScg9wz",
        "outputId": "8ca167fe-65fd-4934-bfad-938e9784ba62"
      },
      "execution_count": 7,
      "outputs": [
        {
          "output_type": "display_data",
          "data": {
            "text/plain": [
              "<Figure size 1200x400 with 2 Axes>"
            ],
            "image/png": "[encoded data removed]"
          },
          "metadata": {}
        }
      ]
    },
    {
      "cell_type": "markdown",
      "source": [
        "### 6.Compute Final Predictions:"
      ],
      "metadata": {
        "id": "pglA6S49hBqr"
      }
    },
    {
      "cell_type": "code",
      "source": [
        "# Compute final predictions using the final values of m and b\n",
        "x_values = points[:, 0]  # Extract x values from the data points\n",
        "y_pred_final = m_final * x_values + b_final  # Compute final predictions\n",
        "print(\"Final Predictions:\", y_pred_final)"
      ],
      "metadata": {
        "colab": {
          "base_uri": "https://localhost:8080/"
        },
        "id": "7q0PScq8hEWK",
        "outputId": "ac9bb477-aa6a-482a-b339-b31e390f388b"
      },
      "execution_count": 8,
      "outputs": [
        {
          "output_type": "stream",
          "name": "stdout",
          "text": [
            "Final Predictions: [3.0152856 5.9936685]\n"
          ]
        }
      ]
    },
    {
      "cell_type": "markdown",
      "source": [
        "\n",
        "### **Graph 1 (Left): Gradient Descent: Changes in m and b over Iterations**\n",
        "This graph tracks how the **slope (\\(m\\))** and **intercept (\\(b\\))** evolve over iterations.\n",
        "\n",
        "#### **Observations:**\n",
        "1. **Initial sharp change:**  \n",
        "   - The values of \\(m\\) (blue line) and \\(b\\) (orange line) change rapidly in the first few iterations.  \n",
        "   - This happens because gradient descent takes large steps initially when the cost is high.\n",
        "  \n",
        "2. **Gradual stabilization:**  \n",
        "   - As iterations increase, both \\(m\\) and \\(b\\) start flattening out, indicating that they are converging to optimal values.\n",
        "\n",
        "3. **Final values approaching a solution:**  \n",
        "   - The graph shows that \\(m\\) and \\(b\\) are no longer changing significantly, meaning gradient descent has found a near-optimal solution.\n",
        "\n",
        "🔹 **Key takeaway:**  \n",
        "The algorithm is learning the best fit for \\(m\\) and \\(b\\) by minimizing the cost function.\n",
        "\n",
        "\n",
        "\n",
        "### **Graph 2 (Right): \"Gradient Descent: Cost over Iterations\"**\n",
        "This graph shows how the **cost function (Mean Squared Error, MSE)** decreases over time.\n",
        "\n",
        "#### **Observations:**\n",
        "1. **High initial cost:**  \n",
        "   - At the start, the cost is high because the initial values of \\(m\\) and \\(b\\) are far from optimal.\n",
        "\n",
        "2. **Rapid decrease in cost:**  \n",
        "   - The cost drops sharply in the first few iterations as gradient descent makes large updates.\n",
        "\n",
        "3. **Convergence (flattening curve):**  \n",
        "   - After several iterations, the cost stabilizes and no longer decreases significantly.\n",
        "   - This means the algorithm has found a near-optimal solution.\n",
        "\n",
        "🔹 **Key takeaway:**  \n",
        "The cost function is decreasing as the model learns, proving that gradient descent is successfully optimizing the parameters.\n",
        "\n",
        "\n",
        "\n",
        "### **Overall Interpretation**\n",
        "- The left graph shows how the **parameters (\\(m\\) and \\(b\\))** are adjusting.\n",
        "- The right graph shows how the **error is decreasing**, proving that the model is learning.\n",
        "- Together, they confirm that gradient descent is working correctly and finding the best fit.\n",
        "  Result:\n",
        "```\n",
        "Final Predictions: [3.0152856  5.9936685]\n",
        "```\n",
        "- When \\( x = 1 \\), \\( y \\approx 3.015 \\) (close to the actual \\( y = 3 \\))\n",
        "- When \\( x = 3 \\), \\( y \\approx 5.994 \\) (close to the actual \\( y = 6 \\))"
      ],
      "metadata": {
        "id": "DJV84cFqhI9S"
      }
    }
  ]
}