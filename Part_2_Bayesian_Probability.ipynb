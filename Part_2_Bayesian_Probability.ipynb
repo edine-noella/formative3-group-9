{
  "nbformat": 4,
  "nbformat_minor": 0,
  "metadata": {
    "colab": {
      "provenance": []
    },
    "kernelspec": {
      "name": "python3",
      "display_name": "Python 3"
    },
    "language_info": {
      "name": "python"
    }
  },
  "cells": [
    {
      "cell_type": "markdown",
      "source": [
        "# Part 2: Bayesian Probability\n",
        "\n",
        "**Medical Diagnosis Using Bayesian Probability**\n",
        "\n",
        "We’ll apply Bayesian inference to diagnose a rare disease based on sequential test results. This example mirrors real-world medical diagnostics where test results refine our belief about a patient having a condition.\n"
      ],
      "metadata": {
        "id": "aFPUQXtaZRSw"
      }
    },
    {
      "cell_type": "markdown",
      "source": [
        "## **Step 1: Initial Observation (Positive Result on a Rapid Test)**\n",
        "\n",
        "We start with the following probabilities:\n",
        "\n",
        "\n",
        "- Prior Probability of Disease (\n",
        "𝑃\n",
        "(\n",
        "𝐷\n",
        ") **bold text**\n",
        "P(D)): 2% (0.02), meaning 2 in 100 people are infected.\n",
        "\n",
        "- Likelihood of a Positive Test Given Disease (\n",
        "𝑃\n",
        "(\n",
        "𝑇\n",
        "∣\n",
        "𝐷\n",
        ")\n",
        "P(T∣D)) **bold text**: 95% (0.95), high sensitivity.\n",
        "\n",
        "-  Likelihood of a Positive Test Given No Disease (\n",
        "𝑃\n",
        "(\n",
        "𝑇\n",
        "∣\n",
        "¬\n",
        "𝐷\n",
        ")\n",
        "P(T∣¬D)) **bold text**: 10% (0.10), i.e., false positive rate.\n",
        "\n",
        "We'll compute the posterior probability of having the disease given a positive rapid test."
      ],
      "metadata": {
        "id": "9ZMB1glyZldg"
      }
    },
    {
      "cell_type": "code",
      "execution_count": 1,
      "metadata": {
        "colab": {
          "base_uri": "https://localhost:8080/"
        },
        "id": "27VemAI6ZKTQ",
        "outputId": "054cc854-5c85-4e97-ab42-f7148ed58923"
      },
      "outputs": [
        {
          "output_type": "stream",
          "name": "stdout",
          "text": [
            "Step 1: Posterior after Positive Rapid Test = 0.1624\n"
          ]
        }
      ],
      "source": [
        "def bayes_update(prior, likelihood_positive_given_disease, likelihood_positive_given_no_disease):\n",
        "    marginal_likelihood = (likelihood_positive_given_disease * prior) + (likelihood_positive_given_no_disease * (1 - prior))\n",
        "    posterior = (likelihood_positive_given_disease * prior) / marginal_likelihood\n",
        "    return posterior, marginal_likelihood\n",
        "\n",
        "# Step 1: First test result (positive)\n",
        "P_D = 0.02\n",
        "P_T_given_D = 0.95\n",
        "P_T_given_not_D = 0.10\n",
        "\n",
        "posterior_T1, P_T1 = bayes_update(P_D, P_T_given_D, P_T_given_not_D)\n",
        "print(f\"Step 1: Posterior after Positive Rapid Test = {posterior_T1:.4f}\")\n"
      ]
    },
    {
      "cell_type": "markdown",
      "source": [
        "## Step 2: Second Observation (Positive Result on PCR Test)\n",
        "\n",
        "Now the patient takes a PCR test, which is more accurate.\n",
        "\n",
        "New probabilities:\n",
        "\n",
        "- Likelihood of Positive PCR Given Disease (\n",
        "𝑃\n",
        "(\n",
        "𝑃\n",
        "𝐶\n",
        "𝑅\n",
        "∣\n",
        "𝐷\n",
        ")\n",
        "P(PCR∣D)): 99% (0.99).\n",
        "\n",
        "- Likelihood of Positive PCR Given No Disease (\n",
        "𝑃\n",
        "(\n",
        "𝑃\n",
        "𝐶\n",
        "𝑅\n",
        "∣\n",
        "¬\n",
        "𝐷\n",
        ")\n",
        "P(PCR∣¬D)): 1% (0.01).\n",
        "\n",
        "We update our previous posterior as the new prior."
      ],
      "metadata": {
        "id": "pvDZGuItaRAM"
      }
    },
    {
      "cell_type": "code",
      "source": [
        "P_PCR_given_D = 0.99\n",
        "P_PCR_given_not_D = 0.01\n",
        "\n",
        "posterior_T2, P_T2 = bayes_update(posterior_T1, P_PCR_given_D, P_PCR_given_not_D)\n",
        "print(f\"Step 2: Posterior after Positive PCR Test = {posterior_T2:.4f}\")\n"
      ],
      "metadata": {
        "colab": {
          "base_uri": "https://localhost:8080/"
        },
        "id": "Ra3cLp_uandF",
        "outputId": "f09ebaa6-53f6-4104-cd90-a2d2d4cd098a"
      },
      "execution_count": 2,
      "outputs": [
        {
          "output_type": "stream",
          "name": "stdout",
          "text": [
            "Step 2: Posterior after Positive PCR Test = 0.9505\n"
          ]
        }
      ]
    },
    {
      "cell_type": "markdown",
      "source": [
        "# Step 3: Third Observation (Symptoms Present)\n",
        "\n",
        "The patient now shows typical symptoms of the disease (e.g., fatigue, fever).\n",
        "\n",
        "New probabilities:\n",
        "\n",
        "- Likelihood of Symptoms Given Disease (\n",
        "𝑃\n",
        "(\n",
        "𝑆\n",
        "∣\n",
        "𝐷\n",
        ")\n",
        "P(S∣D)): 85% (0.85).\n",
        "\n",
        "- Likelihood of Symptoms Given No Disease (\n",
        "𝑃\n",
        "(\n",
        "𝑆\n",
        "∣\n",
        "¬\n",
        "𝐷\n",
        ")\n",
        "P(S∣¬D)): 15% (0.15), since other illnesses can also cause similar symptoms."
      ],
      "metadata": {
        "id": "TRAHOar4atBJ"
      }
    },
    {
      "cell_type": "code",
      "source": [
        "P_Symptoms_given_D = 0.85\n",
        "P_Symptoms_given_not_D = 0.15\n",
        "\n",
        "posterior_T3, P_T3 = bayes_update(posterior_T2, P_Symptoms_given_D, P_Symptoms_given_not_D)\n",
        "print(f\"Step 3: Posterior after Observing Symptoms = {posterior_T3:.4f}\")\n"
      ],
      "metadata": {
        "colab": {
          "base_uri": "https://localhost:8080/"
        },
        "id": "yCatfJLubHeb",
        "outputId": "67de5acd-6e8e-4753-eb30-d2139f784d32"
      },
      "execution_count": 3,
      "outputs": [
        {
          "output_type": "stream",
          "name": "stdout",
          "text": [
            "Step 3: Posterior after Observing Symptoms = 0.9909\n"
          ]
        }
      ]
    },
    {
      "cell_type": "markdown",
      "source": [
        "## **Practical Significance of Bayesian Inference**\n",
        "\n",
        "- Step-by-Step Reasoning: Instead of relying on a single test result, we layer evidence, updating our belief about the diagnosis after each observation.\n",
        "\n",
        "- Real-Time Adaptability: Medical professionals can continuously refine risk estimates as new test results or symptoms emerge.\n",
        "\n",
        "- Uncertainty Quantification: Rather than stating \"you are sick\" or \"you are not,\" Bayesian reasoning provides a probability, e.g., “There is an 89.7% chance the patient is infected.”\n",
        "\n",
        "- Decision Support: Doctors can weigh treatment options or recommend further testing based on how confident they are in the result."
      ],
      "metadata": {
        "id": "-l6zGK5jbNga"
      }
    }
  ]
}